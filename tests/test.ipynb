{
 "cells": [
  {
   "cell_type": "code",
   "execution_count": null,
   "id": "a75b12d9",
   "metadata": {},
   "outputs": [],
   "source": [
    "import pytest\n",
    "import torch\n",
    "\n",
    "from src.transformer import Transformer"
   ]
  },
  {
   "cell_type": "code",
   "execution_count": null,
   "id": "7c414848",
   "metadata": {},
   "outputs": [],
   "source": [
    "@pytest.mark.parametrize(\"num_encoder_layers\", [1, 6])\n",
    "@pytest.mark.parametrize(\"num_decoder_layers\", [1, 6])\n",
    "@pytest.mark.parametrize(\"dim_model\", [2, 8])\n",
    "@pytest.mark.parametrize(\"num_heads\", [1, 6])\n",
    "@pytest.mark.parametrize(\"dim_feedforward\", [2, 8])"
   ]
  },
  {
   "cell_type": "code",
   "execution_count": null,
   "id": "bbdfd04b",
   "metadata": {},
   "outputs": [],
   "source": [
    "def test_init(\n",
    "    num_encoder_layers: int,\n",
    "    num_decoder_layers: int,\n",
    "    dim_model: int,\n",
    "    num_heads: int,\n",
    "    dim_feedforward: int,\n",
    "):\n",
    "    _ = Transformer(\n",
    "        num_encoder_layers=num_encoder_layers,\n",
    "        num_decoder_layers=num_decoder_layers,\n",
    "        dim_model=dim_model,\n",
    "        num_heads=num_heads,\n",
    "        dim_feedforward=dim_feedforward,\n",
    "    )"
   ]
  },
  {
   "cell_type": "code",
   "execution_count": null,
   "id": "eb05a5e7",
   "metadata": {},
   "outputs": [],
   "source": [
    "@pytest.mark.parametrize(\"batch_size\", [1, 2])\n",
    "@pytest.mark.parametrize(\"src_len\", [2, 8])\n",
    "@pytest.mark.parametrize(\"tgt_len\", [2, 8])\n",
    "@pytest.mark.parametrize(\"num_features\", [2, 8])\n",
    "@pytest.mark.parametrize(\"num_encoder_layers\", [1, 6])\n",
    "@pytest.mark.parametrize(\"num_decoder_layers\", [1, 6])\n",
    "@pytest.mark.parametrize(\"num_heads\", [1, 6])\n",
    "@pytest.mark.parametrize(\"dim_feedforward\", [2, 8])"
   ]
  },
  {
   "cell_type": "code",
   "execution_count": null,
   "id": "4716c912",
   "metadata": {},
   "outputs": [],
   "source": [
    "def test_forward(\n",
    "    batch_size: int,\n",
    "    src_len: int,\n",
    "    tgt_len: int,\n",
    "    num_features: int,\n",
    "    num_encoder_layers: int,\n",
    "    num_decoder_layers: int,\n",
    "    num_heads: int,\n",
    "    dim_feedforward: int,\n",
    "):\n",
    "    model = Transformer(\n",
    "        num_encoder_layers=num_encoder_layers,\n",
    "        num_decoder_layers=num_decoder_layers,\n",
    "        dim_model=num_features,\n",
    "        num_heads=num_heads,\n",
    "        dim_feedforward=dim_feedforward,\n",
    "    )\n",
    "\n",
    "    src = torch.randn(batch_size, src_len, num_features)\n",
    "    tgt = torch.randn(batch_size, tgt_len, num_features)\n",
    "    out = model(src, tgt)\n",
    "\n",
    "    _batch_size, seq_len, _num_features = out.shape\n",
    "    assert batch_size == _batch_size\n",
    "    assert seq_len == tgt_len\n",
    "    assert _num_features == num_features"
   ]
  }
 ],
 "metadata": {
  "kernelspec": {
   "display_name": "Python 3 (ipykernel)",
   "language": "python",
   "name": "python3"
  },
  "language_info": {
   "codemirror_mode": {
    "name": "ipython",
    "version": 3
   },
   "file_extension": ".py",
   "mimetype": "text/x-python",
   "name": "python",
   "nbconvert_exporter": "python",
   "pygments_lexer": "ipython3",
   "version": "3.9.7"
  }
 },
 "nbformat": 4,
 "nbformat_minor": 5
}
