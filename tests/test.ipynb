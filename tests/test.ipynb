{
  "cells": [
    {
      "cell_type": "markdown",
      "metadata": {
        "id": "view-in-github",
        "colab_type": "text"
      },
      "source": [
        "<a href=\"https://colab.research.google.com/github/mthomp12/transformer-from-scratch/blob/main/tests/test.ipynb\" target=\"_parent\"><img src=\"https://colab.research.google.com/assets/colab-badge.svg\" alt=\"Open In Colab\"/></a>"
      ]
    },
    {
      "cell_type": "code",
      "source": [
        "!git clone https://github.com/mthomp12/transformer-from-scratch.git"
      ],
      "metadata": {
        "colab": {
          "base_uri": "https://localhost:8080/"
        },
        "id": "Z36Bv2uC7g1D",
        "outputId": "83cd204c-6132-4379-9306-c8c84c557f05"
      },
      "id": "Z36Bv2uC7g1D",
      "execution_count": 2,
      "outputs": [
        {
          "output_type": "stream",
          "name": "stdout",
          "text": [
            "Cloning into 'transformer-from-scratch'...\n",
            "remote: Enumerating objects: 48, done.\u001b[K\n",
            "remote: Counting objects: 100% (48/48), done.\u001b[K\n",
            "remote: Compressing objects: 100% (33/33), done.\u001b[K\n",
            "remote: Total 48 (delta 17), reused 34 (delta 9), pack-reused 0\u001b[K\n",
            "Unpacking objects: 100% (48/48), done.\n"
          ]
        }
      ]
    },
    {
      "cell_type": "code",
      "source": [
        "import os"
      ],
      "metadata": {
        "id": "f7AIv3__7yRF"
      },
      "id": "f7AIv3__7yRF",
      "execution_count": 5,
      "outputs": []
    },
    {
      "cell_type": "code",
      "source": [
        "os.chdir('transformer-from-scratch')"
      ],
      "metadata": {
        "id": "7tgV-k0a8d9f"
      },
      "id": "7tgV-k0a8d9f",
      "execution_count": 30,
      "outputs": []
    },
    {
      "cell_type": "code",
      "execution_count": 31,
      "id": "a75b12d9",
      "metadata": {
        "id": "a75b12d9"
      },
      "outputs": [],
      "source": [
        "import pytest\n",
        "import torch\n",
        "\n",
        "from src.transformer import Transformer"
      ]
    },
    {
      "cell_type": "code",
      "execution_count": 35,
      "id": "bbdfd04b",
      "metadata": {
        "id": "bbdfd04b"
      },
      "outputs": [],
      "source": [
        "def test_init(\n",
        "    num_encoder_layers: int,\n",
        "    num_decoder_layers: int,\n",
        "    dim_model: int,\n",
        "    num_heads: int,\n",
        "    dim_feedforward: int,\n",
        "):\n",
        "    _ = Transformer(\n",
        "        num_encoder_layers=num_encoder_layers,\n",
        "        num_decoder_layers=num_decoder_layers,\n",
        "        dim_model=dim_model,\n",
        "        num_heads=num_heads,\n",
        "        dim_feedforward=dim_feedforward,\n",
        "    )"
      ]
    },
    {
      "cell_type": "code",
      "execution_count": 40,
      "id": "4716c912",
      "metadata": {
        "id": "4716c912"
      },
      "outputs": [],
      "source": [
        "def test_forward(\n",
        "    batch_size: int,\n",
        "    src_len: int,\n",
        "    tgt_len: int,\n",
        "    num_features: int,\n",
        "    num_encoder_layers: int,\n",
        "    num_decoder_layers: int,\n",
        "    num_heads: int,\n",
        "    dim_feedforward: int,\n",
        "):\n",
        "    model = Transformer(\n",
        "        num_encoder_layers=num_encoder_layers,\n",
        "        num_decoder_layers=num_decoder_layers,\n",
        "        dim_model=num_features,\n",
        "        num_heads=num_heads,\n",
        "        dim_feedforward=dim_feedforward,\n",
        "    )\n",
        "\n",
        "    src = torch.randn(batch_size, src_len, num_features)\n",
        "    tgt = torch.randn(batch_size, tgt_len, num_features)\n",
        "    out = model(src, tgt)\n",
        "\n",
        "    _batch_size, seq_len, _num_features = out.shape\n",
        "    assert batch_size == _batch_size\n",
        "    assert seq_len == tgt_len\n",
        "    assert _num_features == num_features\n",
        "\n",
        "    return model"
      ]
    },
    {
      "cell_type": "code",
      "source": [
        "model = test_forward(32, 10, 10, 40, 6, 6, 3, 40)"
      ],
      "metadata": {
        "id": "hHwuKWAw-seZ"
      },
      "id": "hHwuKWAw-seZ",
      "execution_count": 42,
      "outputs": []
    }
  ],
  "metadata": {
    "kernelspec": {
      "display_name": "Python 3 (ipykernel)",
      "language": "python",
      "name": "python3"
    },
    "language_info": {
      "codemirror_mode": {
        "name": "ipython",
        "version": 3
      },
      "file_extension": ".py",
      "mimetype": "text/x-python",
      "name": "python",
      "nbconvert_exporter": "python",
      "pygments_lexer": "ipython3",
      "version": "3.9.7"
    },
    "colab": {
      "name": "test.ipynb",
      "provenance": [],
      "include_colab_link": true
    }
  },
  "nbformat": 4,
  "nbformat_minor": 5
}